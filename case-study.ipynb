{
 "cells": [
  {
   "cell_type": "code",
   "execution_count": 209,
   "id": "23bb8643",
   "metadata": {},
   "outputs": [],
   "source": [
    "# import relevant libraries\n",
    "import osmnx as ox\n",
    "import folium as fl\n",
    "import geopandas as gpd\n",
    "import matplotlib.pyplot as plt\n",
    "import pandas as pd"
   ]
  },
  {
   "cell_type": "markdown",
   "id": "03396396",
   "metadata": {},
   "source": [
    "### 1. Extract Generators"
   ]
  },
  {
   "cell_type": "code",
   "execution_count": 210,
   "id": "369ffc18",
   "metadata": {},
   "outputs": [
    {
     "name": "stderr",
     "output_type": "stream",
     "text": [
      "/Users/nf/.local/share/mamba/envs/casestudy/lib/python3.13/site-packages/osmnx/_overpass.py:271: UserWarning: This area is 15 times your configured Overpass max query area size. It will automatically be divided up into multiple sub-queries accordingly. This may take a long time.\n",
      "  multi_poly_proj = utils_geo._consolidate_subdivide_geometry(poly_proj)\n"
     ]
    }
   ],
   "source": [
    "# load & combine generator data from osmnx (i.e. Overpass) for SN & BB\n",
    "generators_sachsen = ox.features.features_from_place(\"Sachsen, Germany\", tags = {'power':['plant','generator']})\n",
    "generators_brandenburg = ox.features.features_from_place(\"Brandenburg, Germany\", tags = {'power':['plant','generator']})"
   ]
  },
  {
   "cell_type": "code",
   "execution_count": 211,
   "id": "6c4360c9",
   "metadata": {},
   "outputs": [
    {
     "name": "stdout",
     "output_type": "stream",
     "text": [
      "<class 'geopandas.geodataframe.GeoDataFrame'>\n",
      "RangeIndex: 40600 entries, 0 to 40599\n",
      "Data columns (total 5 columns):\n",
      " #   Column                        Non-Null Count  Dtype   \n",
      "---  ------                        --------------  -----   \n",
      " 0   geometry                      40600 non-null  geometry\n",
      " 1   generator:source              39655 non-null  object  \n",
      " 2   generator:output:electricity  37393 non-null  object  \n",
      " 3   generator:method              38390 non-null  object  \n",
      " 4   generator:type                36077 non-null  object  \n",
      "dtypes: geometry(1), object(4)\n",
      "memory usage: 1.5+ MB\n"
     ]
    }
   ],
   "source": [
    "generators = gpd.GeoDataFrame(pd.concat([generators_sachsen, generators_brandenburg], ignore_index=True))\n",
    "# print(generators_sachsen.columns.to_frame())\n",
    "vars_to_keep = ['geometry',\n",
    "                'generator:source',\n",
    "                'generator:output:electricity',\n",
    "                'generator:method', \n",
    "                'generator:type']\n",
    "\n",
    "\n",
    "generators = generators[vars_to_keep]\n",
    "generators.info()"
   ]
  },
  {
   "cell_type": "markdown",
   "id": "c249f300",
   "metadata": {},
   "source": [
    "### 2. Extract Substations"
   ]
  },
  {
   "cell_type": "code",
   "execution_count": 212,
   "id": "6c06bd9d",
   "metadata": {},
   "outputs": [
    {
     "name": "stderr",
     "output_type": "stream",
     "text": [
      "/Users/nf/.local/share/mamba/envs/casestudy/lib/python3.13/site-packages/osmnx/_overpass.py:271: UserWarning: This area is 15 times your configured Overpass max query area size. It will automatically be divided up into multiple sub-queries accordingly. This may take a long time.\n",
      "  multi_poly_proj = utils_geo._consolidate_subdivide_geometry(poly_proj)\n"
     ]
    }
   ],
   "source": [
    "# load & combine power substation data from osmnx\n",
    "substations_sachsen = ox.features.features_from_place(\"Sachsen, Germany\", tags = {'power':'substation'})\n",
    "substations_brandenburg = ox.features.features_from_place(\"Brandenburg, Germany\", tags = {'power':'substation'})"
   ]
  },
  {
   "cell_type": "code",
   "execution_count": 213,
   "id": "c5ae702d",
   "metadata": {},
   "outputs": [
    {
     "name": "stdout",
     "output_type": "stream",
     "text": [
      "<class 'geopandas.geodataframe.GeoDataFrame'>\n",
      "RangeIndex: 8370 entries, 0 to 8369\n",
      "Data columns (total 3 columns):\n",
      " #   Column     Non-Null Count  Dtype   \n",
      "---  ------     --------------  -----   \n",
      " 0   geometry   8370 non-null   geometry\n",
      " 1   voltage    1077 non-null   object  \n",
      " 2   frequency  741 non-null    object  \n",
      "dtypes: geometry(1), object(2)\n",
      "memory usage: 196.3+ KB\n"
     ]
    }
   ],
   "source": [
    "substations = gpd.GeoDataFrame(pd.concat([substations_sachsen, substations_brandenburg], ignore_index=True))\n",
    "# print(substations.columns.to_frame())\n",
    "vars_to_keep = ['geometry',\n",
    "                'voltage',\n",
    "                'frequency'] # just out of curiosity\n",
    "\n",
    "\n",
    "substations = substations[vars_to_keep]\n",
    "substations.info()"
   ]
  },
  {
   "cell_type": "code",
   "execution_count": 214,
   "id": "30372631",
   "metadata": {},
   "outputs": [
    {
     "name": "stdout",
     "output_type": "stream",
     "text": [
      "voltage\n",
      "110000           546\n",
      "20000;400        152\n",
      "20000            127\n",
      "380000            30\n",
      "10000;400         29\n",
      "110000;15000      25\n",
      "10000             19\n",
      "15000             18\n",
      "110000;20000      18\n",
      "21000;400         17\n",
      "30000;750         16\n",
      "30000             12\n",
      "20000;110000       9\n",
      "220000             8\n",
      "400                7\n",
      "30000;15000        4\n",
      "110000;30000       4\n",
      "400;20000          4\n",
      "220000;110000      3\n",
      "63000              3\n",
      "600                3\n",
      "110000;31500       2\n",
      "low                2\n",
      "medium;low         2\n",
      "110000;10000       2\n",
      "380000;110000      2\n",
      "20000;15000        2\n",
      "21000              1\n",
      "660_v_dc           1\n",
      "30000;10000        1\n",
      "110000;400         1\n",
      "0                  1\n",
      "medium;400         1\n",
      "1028               1\n",
      "1000               1\n",
      "110000;33000       1\n",
      "20                 1\n",
      "11000              1\n",
      "Name: count, dtype: int64\n"
     ]
    }
   ],
   "source": [
    "# get overview of voltage of values in voltage\n",
    "print(substations['voltage'].value_counts())"
   ]
  },
  {
   "cell_type": "code",
   "execution_count": 215,
   "id": "54c55113",
   "metadata": {},
   "outputs": [],
   "source": [
    "# drop rows where voltage is NaN\n",
    "substations = substations[substations['voltage'].notna()]\n",
    "\n",
    "# filter substations for voltage >= 110000V\n",
    "substations_transmission = substations[substations['voltage'].apply(lambda x: any(int(v) >= 110000 for v in str(x).split(';') if v.isdigit()))]"
   ]
  },
  {
   "cell_type": "code",
   "execution_count": 216,
   "id": "d83b4c88",
   "metadata": {},
   "outputs": [
    {
     "name": "stdout",
     "output_type": "stream",
     "text": [
      "<class 'geopandas.geodataframe.GeoDataFrame'>\n",
      "Index: 651 entries, 1318 to 8360\n",
      "Data columns (total 3 columns):\n",
      " #   Column     Non-Null Count  Dtype   \n",
      "---  ------     --------------  -----   \n",
      " 0   geometry   651 non-null    geometry\n",
      " 1   voltage    651 non-null    object  \n",
      " 2   frequency  422 non-null    object  \n",
      "dtypes: geometry(1), object(2)\n",
      "memory usage: 20.3+ KB\n"
     ]
    }
   ],
   "source": [
    "substations_transmission.info()"
   ]
  },
  {
   "cell_type": "markdown",
   "id": "3c58f093",
   "metadata": {},
   "source": [
    "### 3. Assign Bundesland Information"
   ]
  },
  {
   "cell_type": "code",
   "execution_count": 217,
   "id": "7647230a",
   "metadata": {},
   "outputs": [],
   "source": [
    "# load Länder polygons via osmnx nominatim (way faster than querying via osmnx / Overpass)\n",
    "\n",
    "states = [\"Brandenburg\",\"Sachsen\"]\n",
    "\n",
    "gdf = ox.geocode_to_gdf([f\"{s}, Germany\" for s in states])\n",
    "laender = gdf[[\"name\",\"geometry\"]]\n"
   ]
  },
  {
   "cell_type": "code",
   "execution_count": 218,
   "id": "e77d469c",
   "metadata": {},
   "outputs": [
    {
     "data": {
      "text/plain": [
       "<Geographic 2D CRS: EPSG:4326>\n",
       "Name: WGS 84\n",
       "Axis Info [ellipsoidal]:\n",
       "- Lat[north]: Geodetic latitude (degree)\n",
       "- Lon[east]: Geodetic longitude (degree)\n",
       "Area of Use:\n",
       "- name: World.\n",
       "- bounds: (-180.0, -90.0, 180.0, 90.0)\n",
       "Datum: World Geodetic System 1984 ensemble\n",
       "- Ellipsoid: WGS 84\n",
       "- Prime Meridian: Greenwich"
      ]
     },
     "execution_count": 218,
     "metadata": {},
     "output_type": "execute_result"
    },
    {
     "data": {
      "image/png": "[encoded data removed]",
      "text/plain": [
       "<Figure size 640x480 with 1 Axes>"
      ]
     },
     "metadata": {},
     "output_type": "display_data"
    }
   ],
   "source": [
    "# quick check of länder geometries\n",
    "laender.boundary.plot()\n",
    "laender.crs"
   ]
  },
  {
   "cell_type": "code",
   "execution_count": 219,
   "id": "aaa68264",
   "metadata": {},
   "outputs": [],
   "source": [
    "# make a 'within' spatial join to get Bundesland for each substation\n",
    "substations_transmission.crs\n",
    "laender = laender.to_crs(substations_transmission.crs)\n",
    "\n",
    "substations_transmission = gpd.sjoin(substations_transmission, laender, how=\"left\", predicate='within')\n",
    "substations_transmission.drop(columns=['index_right'], inplace=True)\n",
    "substations_transmission.rename(columns={'name':'Bundesland'}, inplace=True)"
   ]
  },
  {
   "cell_type": "code",
   "execution_count": 220,
   "id": "4ddbab3c",
   "metadata": {},
   "outputs": [
    {
     "data": {
      "text/html": [
       "<div>\n",
       "<style scoped>\n",
       "    .dataframe tbody tr th:only-of-type {\n",
       "        vertical-align: middle;\n",
       "    }\n",
       "\n",
       "    .dataframe tbody tr th {\n",
       "        vertical-align: top;\n",
       "    }\n",
       "\n",
       "    .dataframe thead th {\n",
       "        text-align: right;\n",
       "    }\n",
       "</style>\n",
       "<table border=\"1\" class=\"dataframe\">\n",
       "  <thead>\n",
       "    <tr style=\"text-align: right;\">\n",
       "      <th></th>\n",
       "      <th>geometry</th>\n",
       "      <th>voltage</th>\n",
       "      <th>frequency</th>\n",
       "      <th>Bundesland</th>\n",
       "    </tr>\n",
       "  </thead>\n",
       "  <tbody>\n",
       "    <tr>\n",
       "      <th>1318</th>\n",
       "      <td>POLYGON ((12.36006 51.29549, 12.36041 51.2955,...</td>\n",
       "      <td>110000</td>\n",
       "      <td>NaN</td>\n",
       "      <td>Saxony</td>\n",
       "    </tr>\n",
       "    <tr>\n",
       "      <th>1322</th>\n",
       "      <td>POLYGON ((12.37123 51.17663, 12.37129 51.17663...</td>\n",
       "      <td>110000</td>\n",
       "      <td>NaN</td>\n",
       "      <td>Saxony</td>\n",
       "    </tr>\n",
       "    <tr>\n",
       "      <th>1323</th>\n",
       "      <td>POLYGON ((13.61047 51.09218, 13.60903 51.09184...</td>\n",
       "      <td>110000</td>\n",
       "      <td>50</td>\n",
       "      <td>Saxony</td>\n",
       "    </tr>\n",
       "    <tr>\n",
       "      <th>1324</th>\n",
       "      <td>POLYGON ((12.26329 51.24467, 12.26367 51.24455...</td>\n",
       "      <td>110000</td>\n",
       "      <td>50</td>\n",
       "      <td>Saxony</td>\n",
       "    </tr>\n",
       "    <tr>\n",
       "      <th>1325</th>\n",
       "      <td>POLYGON ((12.23262 51.29287, 12.23231 51.29284...</td>\n",
       "      <td>110000</td>\n",
       "      <td>50</td>\n",
       "      <td>Saxony</td>\n",
       "    </tr>\n",
       "  </tbody>\n",
       "</table>\n",
       "</div>"
      ],
      "text/plain": [
       "                                               geometry voltage frequency  \\\n",
       "1318  POLYGON ((12.36006 51.29549, 12.36041 51.2955,...  110000       NaN   \n",
       "1322  POLYGON ((12.37123 51.17663, 12.37129 51.17663...  110000       NaN   \n",
       "1323  POLYGON ((13.61047 51.09218, 13.60903 51.09184...  110000        50   \n",
       "1324  POLYGON ((12.26329 51.24467, 12.26367 51.24455...  110000        50   \n",
       "1325  POLYGON ((12.23262 51.29287, 12.23231 51.29284...  110000        50   \n",
       "\n",
       "     Bundesland  \n",
       "1318     Saxony  \n",
       "1322     Saxony  \n",
       "1323     Saxony  \n",
       "1324     Saxony  \n",
       "1325     Saxony  "
      ]
     },
     "execution_count": 220,
     "metadata": {},
     "output_type": "execute_result"
    }
   ],
   "source": [
    "substations_transmission.head()"
   ]
  },
  {
   "cell_type": "code",
   "execution_count": 221,
   "id": "bb7cf772",
   "metadata": {},
   "outputs": [
    {
     "name": "stdout",
     "output_type": "stream",
     "text": [
      "Bundesland\n",
      "Brandenburg    405\n",
      "Saxony         246\n",
      "Name: count, dtype: int64\n"
     ]
    },
    {
     "data": {
      "text/plain": [
       "<Axes: >"
      ]
     },
     "execution_count": 221,
     "metadata": {},
     "output_type": "execute_result"
    },
    {
     "data": {
      "image/png": "[encoded data removed]",
      "text/plain": [
       "<Figure size 640x480 with 1 Axes>"
      ]
     },
     "metadata": {},
     "output_type": "display_data"
    }
   ],
   "source": [
    "print(substations_transmission.value_counts('Bundesland'))\n",
    "substations_transmission.boundary.plot()"
   ]
  },
  {
   "cell_type": "markdown",
   "id": "1114a8c2",
   "metadata": {},
   "source": [
    "### 4. Associate Generators to Substations"
   ]
  },
  {
   "cell_type": "code",
   "execution_count": 222,
   "id": "6cfaf07f",
   "metadata": {},
   "outputs": [
    {
     "name": "stdout",
     "output_type": "stream",
     "text": [
      "<class 'geopandas.geodataframe.GeoDataFrame'>\n",
      "Index: 651 entries, 1318 to 8360\n",
      "Data columns (total 4 columns):\n",
      " #   Column      Non-Null Count  Dtype   \n",
      "---  ------      --------------  -----   \n",
      " 0   geometry    651 non-null    geometry\n",
      " 1   voltage     651 non-null    object  \n",
      " 2   frequency   422 non-null    object  \n",
      " 3   Bundesland  651 non-null    object  \n",
      "dtypes: geometry(1), object(3)\n",
      "memory usage: 25.4+ KB\n"
     ]
    }
   ],
   "source": [
    "substations_transmission.info()"
   ]
  },
  {
   "cell_type": "code",
   "execution_count": 223,
   "id": "eab5acf9",
   "metadata": {},
   "outputs": [
    {
     "data": {
      "text/plain": [
       "<Geographic 2D CRS: EPSG:4326>\n",
       "Name: WGS 84\n",
       "Axis Info [ellipsoidal]:\n",
       "- Lat[north]: Geodetic latitude (degree)\n",
       "- Lon[east]: Geodetic longitude (degree)\n",
       "Area of Use:\n",
       "- name: World.\n",
       "- bounds: (-180.0, -90.0, 180.0, 90.0)\n",
       "Datum: World Geodetic System 1984 ensemble\n",
       "- Ellipsoid: WGS 84\n",
       "- Prime Meridian: Greenwich"
      ]
     },
     "execution_count": 223,
     "metadata": {},
     "output_type": "execute_result"
    }
   ],
   "source": [
    "substations_transmission.crs"
   ]
  },
  {
   "cell_type": "code",
   "execution_count": 224,
   "id": "8c095dc8",
   "metadata": {},
   "outputs": [],
   "source": [
    "# set substations and generators to same crs, fitting Germany\n",
    "substations_transmission = substations_transmission.to_crs(\"EPSG:25833\")\n",
    "generators = generators.to_crs(substations_transmission.crs)\n",
    "\n",
    "# get the nearest substation for each generator\n",
    "generators_with_substations = gpd.sjoin_nearest(generators, substations_transmission,\n",
    "                            how=\"left\", distance_col=\"dist\")\n",
    "\n"
   ]
  },
  {
   "cell_type": "code",
   "execution_count": 225,
   "id": "41b2fd02",
   "metadata": {},
   "outputs": [
    {
     "data": {
      "text/html": [
       "<div>\n",
       "<style scoped>\n",
       "    .dataframe tbody tr th:only-of-type {\n",
       "        vertical-align: middle;\n",
       "    }\n",
       "\n",
       "    .dataframe tbody tr th {\n",
       "        vertical-align: top;\n",
       "    }\n",
       "\n",
       "    .dataframe thead th {\n",
       "        text-align: right;\n",
       "    }\n",
       "</style>\n",
       "<table border=\"1\" class=\"dataframe\">\n",
       "  <thead>\n",
       "    <tr style=\"text-align: right;\">\n",
       "      <th></th>\n",
       "      <th>geometry</th>\n",
       "      <th>generator:source</th>\n",
       "      <th>generator:output:electricity</th>\n",
       "      <th>generator:method</th>\n",
       "      <th>generator:type</th>\n",
       "      <th>index_right</th>\n",
       "      <th>voltage</th>\n",
       "      <th>frequency</th>\n",
       "      <th>Bundesland</th>\n",
       "      <th>dist</th>\n",
       "    </tr>\n",
       "  </thead>\n",
       "  <tbody>\n",
       "    <tr>\n",
       "      <th>0</th>\n",
       "      <td>POINT (396443.993 5639269.346)</td>\n",
       "      <td>wind</td>\n",
       "      <td>1.8 MW</td>\n",
       "      <td>wind_turbine</td>\n",
       "      <td>horizontal_axis</td>\n",
       "      <td>1495</td>\n",
       "      <td>110000</td>\n",
       "      <td>NaN</td>\n",
       "      <td>Saxony</td>\n",
       "      <td>10459.341908</td>\n",
       "    </tr>\n",
       "    <tr>\n",
       "      <th>1</th>\n",
       "      <td>POINT (396010.786 5639776.856)</td>\n",
       "      <td>wind</td>\n",
       "      <td>600 kW</td>\n",
       "      <td>wind_turbine</td>\n",
       "      <td>horizontal_axis</td>\n",
       "      <td>1495</td>\n",
       "      <td>110000</td>\n",
       "      <td>NaN</td>\n",
       "      <td>Saxony</td>\n",
       "      <td>11023.764769</td>\n",
       "    </tr>\n",
       "    <tr>\n",
       "      <th>2</th>\n",
       "      <td>POINT (396066.235 5640136.06)</td>\n",
       "      <td>wind</td>\n",
       "      <td>600 kW</td>\n",
       "      <td>wind_turbine</td>\n",
       "      <td>horizontal_axis</td>\n",
       "      <td>1495</td>\n",
       "      <td>110000</td>\n",
       "      <td>NaN</td>\n",
       "      <td>Saxony</td>\n",
       "      <td>11088.844679</td>\n",
       "    </tr>\n",
       "    <tr>\n",
       "      <th>3</th>\n",
       "      <td>POINT (400094.281 5657513.302)</td>\n",
       "      <td>wind</td>\n",
       "      <td>1000 kW</td>\n",
       "      <td>wind_turbine</td>\n",
       "      <td>horizontal_axis</td>\n",
       "      <td>1323</td>\n",
       "      <td>110000</td>\n",
       "      <td>50</td>\n",
       "      <td>Saxony</td>\n",
       "      <td>4254.620483</td>\n",
       "    </tr>\n",
       "    <tr>\n",
       "      <th>4</th>\n",
       "      <td>POINT (361743.592 5661363.86)</td>\n",
       "      <td>hydro</td>\n",
       "      <td>yes</td>\n",
       "      <td>run-of-the-river</td>\n",
       "      <td>NaN</td>\n",
       "      <td>1866</td>\n",
       "      <td>110000</td>\n",
       "      <td>50</td>\n",
       "      <td>Saxony</td>\n",
       "      <td>3643.135617</td>\n",
       "    </tr>\n",
       "  </tbody>\n",
       "</table>\n",
       "</div>"
      ],
      "text/plain": [
       "                         geometry generator:source  \\\n",
       "0  POINT (396443.993 5639269.346)             wind   \n",
       "1  POINT (396010.786 5639776.856)             wind   \n",
       "2   POINT (396066.235 5640136.06)             wind   \n",
       "3  POINT (400094.281 5657513.302)             wind   \n",
       "4   POINT (361743.592 5661363.86)            hydro   \n",
       "\n",
       "  generator:output:electricity  generator:method   generator:type  \\\n",
       "0                       1.8 MW      wind_turbine  horizontal_axis   \n",
       "1                       600 kW      wind_turbine  horizontal_axis   \n",
       "2                       600 kW      wind_turbine  horizontal_axis   \n",
       "3                      1000 kW      wind_turbine  horizontal_axis   \n",
       "4                          yes  run-of-the-river              NaN   \n",
       "\n",
       "   index_right voltage frequency Bundesland          dist  \n",
       "0         1495  110000       NaN     Saxony  10459.341908  \n",
       "1         1495  110000       NaN     Saxony  11023.764769  \n",
       "2         1495  110000       NaN     Saxony  11088.844679  \n",
       "3         1323  110000        50     Saxony   4254.620483  \n",
       "4         1866  110000        50     Saxony   3643.135617  "
      ]
     },
     "execution_count": 225,
     "metadata": {},
     "output_type": "execute_result"
    }
   ],
   "source": [
    "generators_with_substations.head()"
   ]
  },
  {
   "cell_type": "code",
   "execution_count": 226,
   "id": "7550aa15",
   "metadata": {},
   "outputs": [
    {
     "name": "stdout",
     "output_type": "stream",
     "text": [
      "Polygon         31033\n",
      "Point            9498\n",
      "MultiPolygon       58\n",
      "LineString         11\n",
      "Name: count, dtype: int64\n",
      "Polygon    1012\n",
      "Point        65\n",
      "Name: count, dtype: int64\n"
     ]
    }
   ],
   "source": [
    "# for generators and substations, show the value count of geometry types\n",
    "print(generators['geometry'].geom_type.value_counts())\n",
    "print(substations['geometry'].geom_type.value_counts())"
   ]
  },
  {
   "cell_type": "code",
   "execution_count": 227,
   "id": "7027dac6",
   "metadata": {},
   "outputs": [],
   "source": [
    "# subset every 100th generator to have a more performant map\n",
    "ps_plot = generators_with_substations[::100]\n",
    "\n",
    "sub_plot = substations_transmission.copy()"
   ]
  },
  {
   "cell_type": "code",
   "execution_count": 228,
   "id": "e02ba203",
   "metadata": {},
   "outputs": [
    {
     "name": "stdout",
     "output_type": "stream",
     "text": [
      "<class 'geopandas.geodataframe.GeoDataFrame'>\n",
      "Index: 651 entries, 1318 to 8360\n",
      "Data columns (total 4 columns):\n",
      " #   Column      Non-Null Count  Dtype   \n",
      "---  ------      --------------  -----   \n",
      " 0   geometry    651 non-null    geometry\n",
      " 1   voltage     651 non-null    object  \n",
      " 2   frequency   422 non-null    object  \n",
      " 3   Bundesland  651 non-null    object  \n",
      "dtypes: geometry(1), object(3)\n",
      "memory usage: 25.4+ KB\n"
     ]
    }
   ],
   "source": [
    "sub_plot.info()"
   ]
  },
  {
   "cell_type": "code",
   "execution_count": 229,
   "id": "3b5616d6",
   "metadata": {},
   "outputs": [],
   "source": [
    "\n",
    "if ps_plot.crs is None or ps_plot.crs.to_epsg() != 4326:\n",
    "    ps_plot = ps_plot.to_crs(epsg=4326)\n",
    "\n",
    "if sub_plot.crs is None or sub_plot.crs.to_epsg() != 4326:\n",
    "    sub_plot = sub_plot.to_crs(epsg=4326)\n",
    "\n",
    "# representative point for all geometries\n",
    "rep_points = ps_plot.geometry.apply(lambda g: g if g.geom_type == 'Point' else g.centroid)\n",
    "\n",
    "# center map on data\n",
    "center_lat = rep_points.y.mean()\n",
    "center_lon = rep_points.x.mean()\n",
    "m = fl.Map(location=[center_lat, center_lon], zoom_start=7)\n",
    "\n",
    "# add power stations with popups\n",
    "for idx, row in ps_plot.iterrows():\n",
    "    geom = row.geometry\n",
    "    if geom.is_empty:\n",
    "        continue\n",
    "    if geom.geom_type == 'Point':\n",
    "        lat, lon = geom.y, geom.x\n",
    "    else:\n",
    "        c = geom.centroid\n",
    "        lat, lon = c.y, c.x\n",
    "    popup = (f\"Generator: {row.get('generator:method', 'n/a')}, \\n\"\n",
    "             f\"Source: {row.get('generator:source','n/a')}, \\n\"\n",
    "             f\"Output: {row.get('generator:output:electricity','n/a')}, \\n\"\n",
    "             f\"Nearest Substation: {row.get('index_right','n/a')}\")\n",
    "    fl.Marker(location=[lat, lon], popup=popup).add_to(m)\n",
    "\n",
    "# add substations with popups\n",
    "for idx, row in sub_plot.iterrows():\n",
    "    geom = row.geometry\n",
    "    if geom.is_empty:\n",
    "        continue\n",
    "    if geom.geom_type == 'Point':\n",
    "        lat, lon = geom.y, geom.x\n",
    "    else:\n",
    "        c = geom.centroid\n",
    "        lat, lon = c.y, c.x\n",
    "    popup = (f\"Substation Voltage: {row.get('voltage', 'n/a')}, \\n\"\n",
    "             f\"Frequency: {row.get('frequency','n/a')}, \\n\"\n",
    "             f\"Bundesland: {row.get('Bundesland','n/a')}, \\n\"\n",
    "             f\"Index: {idx}\")\n",
    "    fl.Marker(location=[lat, lon], popup=popup, icon=fl.Icon(color='green', icon='flash')).add_to(m)\n",
    "\n",
    "m.save(\"output/power_stations_map.html\")\n"
   ]
  },
  {
   "cell_type": "markdown",
   "id": "aa72a66d",
   "metadata": {},
   "source": [
    "## 5. Aggregate and Summarize"
   ]
  },
  {
   "cell_type": "markdown",
   "id": "d96b4384",
   "metadata": {},
   "source": [
    "### Number of nearby generators for each substations"
   ]
  },
  {
   "cell_type": "code",
   "execution_count": 230,
   "id": "565a4aa8",
   "metadata": {},
   "outputs": [],
   "source": [
    "BUFFER = 5_000\n",
    "\n",
    "# set substations and generators to same crs, fitting Germany\n",
    "sub = substations_transmission.to_crs(\"EPSG:25833\")\n",
    "gen = generators.to_crs(substations_transmission.crs)\n",
    "\n",
    "\n",
    "pairs = gpd.sjoin(sub.assign(geometry=sub.geometry.buffer(BUFFER)),\n",
    "                  gen[[\"geometry\"]], predicate=\"intersects\", how=\"left\")\n",
    "\n",
    "counts = pairs.groupby(level=0).size().reindex(sub.index, fill_value=0).rename(f\"substations_within_{BUFFER/1000}_km\")\n",
    "\n",
    "substations_metrics = sub.join([counts])"
   ]
  },
  {
   "cell_type": "code",
   "execution_count": 231,
   "id": "4039d71c",
   "metadata": {},
   "outputs": [
    {
     "data": {
      "text/plain": [
       "count     651.000000\n",
       "mean      191.316436\n",
       "std       572.067679\n",
       "min         1.000000\n",
       "25%        17.000000\n",
       "50%        42.000000\n",
       "75%       108.500000\n",
       "max      5741.000000\n",
       "Name: substations_within_5.0_km, dtype: float64"
      ]
     },
     "execution_count": 231,
     "metadata": {},
     "output_type": "execute_result"
    }
   ],
   "source": [
    "substations_metrics[f\"substations_within_{BUFFER/1000}_km\"].describe()"
   ]
  },
  {
   "cell_type": "markdown",
   "id": "f723e9cc",
   "metadata": {},
   "source": [
    "### Breakdown of generators by type"
   ]
  },
  {
   "cell_type": "code",
   "execution_count": 235,
   "id": "b0d3b7f1",
   "metadata": {},
   "outputs": [
    {
     "data": {
      "image/png": "[encoded data removed]",
      "text/plain": [
       "<Figure size 640x480 with 1 Axes>"
      ]
     },
     "metadata": {},
     "output_type": "display_data"
    }
   ],
   "source": [
    "gen['generator:source'].value_counts()\n",
    "\n",
    "gen['generator:source'].value_counts().head(5).plot(kind='bar')\n",
    "plt.title('Top 5 Generator Sources')\n",
    "plt.xlabel('Generator Source')\n",
    "plt.ylabel('Count')\n",
    "plt.show()"
   ]
  },
  {
   "cell_type": "markdown",
   "id": "3d64f5b2",
   "metadata": {},
   "source": [
    "### Generator capacities if available"
   ]
  },
  {
   "cell_type": "code",
   "execution_count": 236,
   "id": "d7d4d83e",
   "metadata": {},
   "outputs": [
    {
     "data": {
      "text/plain": [
       "generator:output:electricity\n",
       "yes                   28232\n",
       "small_installation     5090\n",
       "2.00 MW                 502\n",
       "2 MW                    421\n",
       "1.5 MW                  274\n",
       "1.50 MW                 209\n",
       "600 kW                  130\n",
       "3.45 MW                 117\n",
       "3.00 MW                 102\n",
       "2.30 MW                  87\n",
       "1.80 MW                  83\n",
       "2.3 MW                   80\n",
       "3.30 MW                  78\n",
       "2000 kW                  72\n",
       "4.2 MW                   68\n",
       "1.8 MW                   62\n",
       "850 kW                   59\n",
       "5.6 MW                   59\n",
       "3.3 MW                   59\n",
       "5.7 MW                   51\n",
       "660 kW                   47\n",
       "3 MW                     46\n",
       "1500 kW                  44\n",
       "3.6 MW                   44\n",
       "500 kW                   38\n",
       "800 kW                   37\n",
       "3.20 MW                  35\n",
       "2.0 MW                   35\n",
       "4.20 MW                  34\n",
       "0.60 MW                  34\n",
       "2.5 MW                   31\n",
       "2.05 MW                  30\n",
       "2.35 MW                  29\n",
       "0.5 MW                   29\n",
       "3.0 MW                   29\n",
       "2.75 MW                  27\n",
       "3.2 MW                   27\n",
       "1.00 MW                  25\n",
       "1.65 MW                  25\n",
       "1.30 MW                  24\n",
       "0.50 MW                  23\n",
       "0.80 MW                  23\n",
       "5.5 MW                   23\n",
       "4.5 MW                   23\n",
       "6.8 MW                   23\n",
       "2.40 MW                  22\n",
       "2.50 MW                  21\n",
       "1.0 MW                   21\n",
       "750 kW                   20\n",
       "1000 kW                  19\n",
       "3.60 MW                  19\n",
       "3.05 MW                  18\n",
       "2300 kW                  18\n",
       "2400 kW                  16\n",
       "1.3 MW                   15\n",
       "0.6 MW                   15\n",
       "0.85 MW                  15\n",
       "biogas                   14\n",
       "0.75 MW                  14\n",
       "2500 kW                  13\n",
       "3.5 MW                   13\n",
       "210 MW                   12\n",
       "4.0 MW                   11\n",
       "4.26 MW                  11\n",
       "6 MW                     11\n",
       "5.56 MW                  11\n",
       "4.50 MW                  10\n",
       "1650 kW                  10\n",
       "2.4 MW                   10\n",
       "5.70 MW                   9\n",
       "3300 kW                   9\n",
       "5.60 MW                   9\n",
       "6.0 MW                    9\n",
       "3.4 MW                    8\n",
       "3000 kW                   7\n",
       "6.2 MW                    7\n",
       "5.3 MW                    7\n",
       "0.66 MW                   7\n",
       "500 MW                    6\n",
       "1800 kW                   6\n",
       "1500                      6\n",
       "2.2 MW                    6\n",
       "3.63 MW                   6\n",
       "0.8 MW                    6\n",
       "3.000 kW                  5\n",
       "8 kW                      5\n",
       "4.80 MW                   5\n",
       "3.40 MW                   5\n",
       "1.5 MM                    4\n",
       "6.80 MW                   4\n",
       "5 kW                      4\n",
       "5.5 kW                    4\n",
       "9.2 kW                    4\n",
       "2.350 MW                  4\n",
       "3.50 MW                   4\n",
       "4 MW                      4\n",
       "800 KW                    3\n",
       "0.2 MW                    3\n",
       "20 MW                     3\n",
       "3600 kW                   3\n",
       "2300                      3\n",
       "15 kW                     3\n",
       "3.8 MW                    3\n",
       "2350 kW                   3\n",
       "4.30 MW                   2\n",
       "0.9 MW                    2\n",
       "3300 KW                   2\n",
       "1300 kW                   2\n",
       "2,0 MW                    2\n",
       "3050 kW                   2\n",
       "10                        2\n",
       "25 kW                     2\n",
       "2.28 MWp                  2\n",
       "933.2 MW                  2\n",
       "0.25 MW                   2\n",
       "4 kW                      2\n",
       "31 MW                     2\n",
       "6.00 MW                   2\n",
       "4.00 MW                   2\n",
       "990 kW                    2\n",
       "250 kW                    2\n",
       "10 kW                     2\n",
       "5.50 MW                   2\n",
       "240 kW                    2\n",
       "2050 kW                   2\n",
       "4.5 kW                    2\n",
       "3150 KW                   2\n",
       "3200 KW                   2\n",
       "6.6 MW                    2\n",
       "9 kW                      2\n",
       "225 kW                    2\n",
       "800 MW                    2\n",
       "5560 kW                   2\n",
       "2.40 MWp                  2\n",
       "3.33 kW                   2\n",
       "46 kW                     2\n",
       "3450 kW                   2\n",
       "400 kW                    2\n",
       "37 kW                     2\n",
       "22.94 kW                  2\n",
       "6.12 kW                   2\n",
       "2.45 MW                   2\n",
       "5,56 MW                   2\n",
       "10 MW                     2\n",
       "35.88 kW                  2\n",
       "1.9 MWp                   1\n",
       "4.6 kW                    1\n",
       "13.6 kW                   1\n",
       "4.8 MW                    1\n",
       "8.68 kW                   1\n",
       "6,80 MW                   1\n",
       "4.68 kW                   1\n",
       "26.5 MWp                  1\n",
       "9.12 kW                   1\n",
       "8.36 kW                   1\n",
       "6.6 kW                    1\n",
       "4.6                       1\n",
       "15.8 kW                   1\n",
       "5.94                      1\n",
       "526 kW                    1\n",
       "3.94 MWp                  1\n",
       "499 kW                    1\n",
       "737 kW                    1\n",
       "930 kW                    1\n",
       "84 kW                     1\n",
       "14 MW                     1\n",
       "7 kW                      1\n",
       "81 MW                     1\n",
       "110 kW                    1\n",
       "8.3 MWp                   1\n",
       "28.5 kW                   1\n",
       "65 kW                     1\n",
       "6 kW                      1\n",
       "29.97 kW                  1\n",
       "160 MW                    1\n",
       "3.93 MW                   1\n",
       "44.4 kW                   1\n",
       "2.35 MWp                  1\n",
       "13 MWp                    1\n",
       "1.16 MWp                  1\n",
       "8.78 MWp                  1\n",
       "1.628 MW                  1\n",
       "4.40 MWp                  1\n",
       "179.16 kW                 1\n",
       "100 kW                    1\n",
       "130 MW                    1\n",
       "3.1 MW                    1\n",
       "20.64 MW                  1\n",
       "29.6 kW                   1\n",
       "30 MW                     1\n",
       "3.12 kW                   1\n",
       "1074 KW                   1\n",
       "22.05 kW                  1\n",
       "103955 kWp                1\n",
       "11.52 kW                  1\n",
       "6.77 MWp                  1\n",
       "2.69 MWp                  1\n",
       "3.8 MWp                   1\n",
       "6 MWp                     1\n",
       "10 MWp                    1\n",
       "1.071 MWp                 1\n",
       "30.2 MW                   1\n",
       "8 MW                      1\n",
       "9540 kWp                  1\n",
       "1.7 MWp                   1\n",
       "2,25 MW                   1\n",
       "7 MW                      1\n",
       "21 MW                     1\n",
       "10.26 kW                  1\n",
       "3.9 MW                    1\n",
       "74 kWp                    1\n",
       "1.6 MW                    1\n",
       "63 MW                     1\n",
       "75.02 kW                  1\n",
       "40 kW                     1\n",
       "88 MW                     1\n",
       "9 MW                      1\n",
       "75 kW                     1\n",
       "22.7 kW                   1\n",
       "65 kWp                    1\n",
       "hot_water                 1\n",
       "14 kW                     1\n",
       "600W                      1\n",
       "6,2 MW                    1\n",
       "215 kW                    1\n",
       "80 kW                     1\n",
       "44 kW                     1\n",
       "2350 KW                   1\n",
       "0.008                     1\n",
       "52 kW                     1\n",
       "396 kW                    1\n",
       "19 kW                     1\n",
       "590 kW                    1\n",
       "5600 kW                   1\n",
       "79.2 kW                   1\n",
       "86 kW                     1\n",
       "200kW                     1\n",
       "47 kW                     1\n",
       "0.15                      1\n",
       "false                     1\n",
       "1040 kWp                  1\n",
       "6.3 MW                    1\n",
       "4424 kW                   1\n",
       "9.3 MW                    1\n",
       "0.76 MW                   1\n",
       "2.48 MW                   1\n",
       "200 kW                    1\n",
       "6.5 MW                    1\n",
       "675 MW                    1\n",
       "900 MW                    1\n",
       "16 MW                     1\n",
       "150 kW                    1\n",
       "700 kW                    1\n",
       "370 kW                    1\n",
       "9.6 kW                    1\n",
       "3.15 MW                   1\n",
       "469 kW                    1\n",
       "26 kW                     1\n",
       "3.6 kW                    1\n",
       "52.9 kW                   1\n",
       "31 kW                     1\n",
       "23 kW                     1\n",
       "72 kW                     1\n",
       "27.22 kW                  1\n",
       "3.92 kW                   1\n",
       "11.49                     1\n",
       "4.73                      1\n",
       "4.9 kW                    1\n",
       "9.66 kW                   1\n",
       "3.36                      1\n",
       "4.18 kW                   1\n",
       "94.7 kW                   1\n",
       "1100 kW                   1\n",
       "2000 KW                   1\n",
       "1252 kW                   1\n",
       "7.5 MW                    1\n",
       "2x2kW                     1\n",
       "3400 kW                   1\n",
       "330 kW                    1\n",
       "1.95 kW                   1\n",
       "0.90 MW                   1\n",
       "6.55 kW                   1\n",
       "10.12 kW                  1\n",
       "7.50 MW                   1\n",
       "0.40 MW                   1\n",
       "6200 W                    1\n",
       "1 MW                      1\n",
       "18 kW                     1\n",
       "2.78 MW                   1\n",
       "27 kW                     1\n",
       "536 kW                    1\n",
       "270 kW                    1\n",
       "35 MW                     1\n",
       "Name: count, dtype: int64"
      ]
     },
     "execution_count": 236,
     "metadata": {},
     "output_type": "execute_result"
    }
   ],
   "source": [
    "# get overview of power output values\n",
    "pd.set_option('display.max_rows', None)\n",
    "gen['generator:output:electricity'].value_counts()"
   ]
  },
  {
   "cell_type": "code",
   "execution_count": 237,
   "id": "6c4186ce",
   "metadata": {},
   "outputs": [],
   "source": [
    "gen['output'] = gen['generator:output:electricity']\n",
    "gen.output.value_counts()\n",
    "# 'output' contains values such as '2.78 MW'. Split at the whitespace and put value and unit into separate columns\n",
    "gen[['value', 'unit']] = gen['output'].str.split(' ', expand=True)\n",
    "# set 'value' to float. Those that cannot be converted will be set to NaN (many observations with 'yes' and 'small_installation')\n",
    "gen['value'] = pd.to_numeric(gen['value'], errors='coerce')"
   ]
  },
  {
   "cell_type": "code",
   "execution_count": 238,
   "id": "0d70b34a",
   "metadata": {},
   "outputs": [],
   "source": [
    "gen.unit.value_counts()\n",
    "# set 'unit' to nan if not 'kW' or 'MW'\n",
    "# simplification ignoring MWp etc., as they are only few cases\n",
    "gen.loc[~gen['unit'].isin(['kW', 'MW']), 'unit'] = pd.NA"
   ]
  },
  {
   "cell_type": "code",
   "execution_count": 239,
   "id": "2dd25832",
   "metadata": {},
   "outputs": [
    {
     "data": {
      "text/plain": [
       "count      4045.000000\n",
       "mean       5042.743283\n",
       "std       39532.564749\n",
       "min           0.008000\n",
       "25%        1500.000000\n",
       "50%        2000.000000\n",
       "75%        3000.000000\n",
       "max      933200.000000\n",
       "Name: value_kw, dtype: float64"
      ]
     },
     "execution_count": 239,
     "metadata": {},
     "output_type": "execute_result"
    }
   ],
   "source": [
    "# create a new column 'value_kw' with all values in kW\n",
    "gen['value_kw'] = gen['value']\n",
    "gen.loc[gen['unit'] == 'MW', 'value_kw'] = gen['value'] * 1000\n",
    "gen.value_kw.describe()"
   ]
  },
  {
   "cell_type": "code",
   "execution_count": 240,
   "id": "52b01d12",
   "metadata": {},
   "outputs": [
    {
     "name": "stdout",
     "output_type": "stream",
     "text": [
      "The total capacity of tagged OSM generators in BB and SN is 20.398 GW\n"
     ]
    }
   ],
   "source": [
    "# total capacity of all generators in kW\n",
    "capacity = gen['value_kw'].sum()\n",
    "print(f\"The total capacity of tagged OSM generators in BB and SN is {round(capacity/1_000_000, 3)} GW\")"
   ]
  }
 ],
 "metadata": {
  "kernelspec": {
   "display_name": "casestudy",
   "language": "python",
   "name": "python3"
  },
  "language_info": {
   "codemirror_mode": {
    "name": "ipython",
    "version": 3
   },
   "file_extension": ".py",
   "mimetype": "text/x-python",
   "name": "python",
   "nbconvert_exporter": "python",
   "pygments_lexer": "ipython3",
   "version": "3.13.7"
  }
 },
 "nbformat": 4,
 "nbformat_minor": 5
}
