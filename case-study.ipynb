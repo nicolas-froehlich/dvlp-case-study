{
 "cells": [
  {
   "cell_type": "code",
   "execution_count": 55,
   "id": "23bb8643",
   "metadata": {},
   "outputs": [],
   "source": [
    "# import relevant libraries\n",
    "import osmnx as ox\n",
    "import folium as fl\n",
    "import geopandas as gpd\n",
    "import matplotlib.pyplot as plt\n",
    "import pandas as pd"
   ]
  },
  {
   "cell_type": "markdown",
   "id": "03396396",
   "metadata": {},
   "source": [
    "### 1. Extract Generators"
   ]
  },
  {
   "cell_type": "code",
   "execution_count": 56,
   "id": "369ffc18",
   "metadata": {},
   "outputs": [],
   "source": [
    "# load & combine power plant data from osmnx (i.e. Overpass) for SN & BB\n",
    "# power_stations_sachsen = ox.features.features_from_place(\"Sachsen, Germany\", tags = {'power':['plant','generator']})\n",
    "# power_stations_brandenburg = ox.features.features_from_place(\"Brandenburg, Germany\", tags = {'power':['plant','generator']})"
   ]
  },
  {
   "cell_type": "code",
   "execution_count": 57,
   "id": "6c4360c9",
   "metadata": {},
   "outputs": [
    {
     "name": "stdout",
     "output_type": "stream",
     "text": [
      "<class 'geopandas.geodataframe.GeoDataFrame'>\n",
      "RangeIndex: 40600 entries, 0 to 40599\n",
      "Data columns (total 5 columns):\n",
      " #   Column                        Non-Null Count  Dtype   \n",
      "---  ------                        --------------  -----   \n",
      " 0   geometry                      40600 non-null  geometry\n",
      " 1   generator:source              39655 non-null  object  \n",
      " 2   generator:output:electricity  37393 non-null  object  \n",
      " 3   generator:method              38390 non-null  object  \n",
      " 4   generator:type                36077 non-null  object  \n",
      "dtypes: geometry(1), object(4)\n",
      "memory usage: 1.5+ MB\n"
     ]
    }
   ],
   "source": [
    "power_stations = gpd.GeoDataFrame(pd.concat([power_stations_sachsen, power_stations_brandenburg], ignore_index=True))\n",
    "# print(power_stations_sachsen.columns.to_frame())\n",
    "vars_to_keep = ['geometry',\n",
    "                'generator:source',\n",
    "                'generator:output:electricity',\n",
    "                'generator:method', \n",
    "                'generator:type']\n",
    "\n",
    "\n",
    "power_stations = power_stations[vars_to_keep]\n",
    "power_stations.info()"
   ]
  },
  {
   "cell_type": "markdown",
   "id": "c249f300",
   "metadata": {},
   "source": [
    "### 2. Extract Substations"
   ]
  },
  {
   "cell_type": "code",
   "execution_count": 58,
   "id": "6c06bd9d",
   "metadata": {},
   "outputs": [],
   "source": [
    "# load & combine power substation data from osmnx\n",
    "# substations_sachsen = ox.features.features_from_place(\"Sachsen, Germany\", tags = {'power':'substation'})\n",
    "# substations_brandenburg = ox.features.features_from_place(\"Brandenburg, Germany\", tags = {'power':'substation'})"
   ]
  },
  {
   "cell_type": "code",
   "execution_count": 59,
   "id": "c5ae702d",
   "metadata": {},
   "outputs": [
    {
     "name": "stdout",
     "output_type": "stream",
     "text": [
      "<class 'geopandas.geodataframe.GeoDataFrame'>\n",
      "RangeIndex: 8370 entries, 0 to 8369\n",
      "Data columns (total 3 columns):\n",
      " #   Column     Non-Null Count  Dtype   \n",
      "---  ------     --------------  -----   \n",
      " 0   geometry   8370 non-null   geometry\n",
      " 1   voltage    1077 non-null   object  \n",
      " 2   frequency  741 non-null    object  \n",
      "dtypes: geometry(1), object(2)\n",
      "memory usage: 196.3+ KB\n"
     ]
    }
   ],
   "source": [
    "substations = gpd.GeoDataFrame(pd.concat([substations_sachsen, substations_brandenburg], ignore_index=True))\n",
    "# print(substations.columns.to_frame())\n",
    "vars_to_keep = ['geometry',\n",
    "                'voltage',\n",
    "                'frequency'] # just out of curiosity\n",
    "\n",
    "\n",
    "substations = substations[vars_to_keep]\n",
    "substations.info()"
   ]
  },
  {
   "cell_type": "code",
   "execution_count": 60,
   "id": "30372631",
   "metadata": {},
   "outputs": [
    {
     "name": "stdout",
     "output_type": "stream",
     "text": [
      "voltage\n",
      "110000           546\n",
      "20000;400        152\n",
      "20000            127\n",
      "380000            30\n",
      "10000;400         29\n",
      "110000;15000      25\n",
      "10000             19\n",
      "15000             18\n",
      "110000;20000      18\n",
      "21000;400         17\n",
      "30000;750         16\n",
      "30000             12\n",
      "20000;110000       9\n",
      "220000             8\n",
      "400                7\n",
      "30000;15000        4\n",
      "110000;30000       4\n",
      "400;20000          4\n",
      "220000;110000      3\n",
      "63000              3\n",
      "600                3\n",
      "110000;31500       2\n",
      "low                2\n",
      "medium;low         2\n",
      "110000;10000       2\n",
      "380000;110000      2\n",
      "20000;15000        2\n",
      "21000              1\n",
      "660_v_dc           1\n",
      "30000;10000        1\n",
      "110000;400         1\n",
      "0                  1\n",
      "medium;400         1\n",
      "1028               1\n",
      "1000               1\n",
      "110000;33000       1\n",
      "20                 1\n",
      "11000              1\n",
      "Name: count, dtype: int64\n"
     ]
    }
   ],
   "source": [
    "# get overview of voltage of values in voltage\n",
    "print(substations['voltage'].value_counts())"
   ]
  },
  {
   "cell_type": "code",
   "execution_count": 61,
   "id": "54c55113",
   "metadata": {},
   "outputs": [],
   "source": [
    "# drop rows where voltage is NaN\n",
    "substations = substations[substations['voltage'].notna()]\n",
    "\n",
    "# filter substations for voltage >= 110000V\n",
    "substations_transmission = substations[substations['voltage'].apply(lambda x: any(int(v) >= 110000 for v in str(x).split(';') if v.isdigit()))]"
   ]
  },
  {
   "cell_type": "code",
   "execution_count": 62,
   "id": "d83b4c88",
   "metadata": {},
   "outputs": [
    {
     "name": "stdout",
     "output_type": "stream",
     "text": [
      "<class 'geopandas.geodataframe.GeoDataFrame'>\n",
      "Index: 651 entries, 1318 to 8360\n",
      "Data columns (total 3 columns):\n",
      " #   Column     Non-Null Count  Dtype   \n",
      "---  ------     --------------  -----   \n",
      " 0   geometry   651 non-null    geometry\n",
      " 1   voltage    651 non-null    object  \n",
      " 2   frequency  422 non-null    object  \n",
      "dtypes: geometry(1), object(2)\n",
      "memory usage: 20.3+ KB\n"
     ]
    }
   ],
   "source": [
    "substations_transmission.info()"
   ]
  },
  {
   "cell_type": "markdown",
   "id": "3c58f093",
   "metadata": {},
   "source": [
    "### 3. Assign Bundesland Information"
   ]
  },
  {
   "cell_type": "code",
   "execution_count": 63,
   "id": "7647230a",
   "metadata": {},
   "outputs": [],
   "source": [
    "# load Länder polygons via osmnx nominatim (way faster than querying via osmnx / Overpass)\n",
    "\n",
    "states = [\"Brandenburg\",\"Sachsen\"]\n",
    "\n",
    "gdf = ox.geocode_to_gdf([f\"{s}, Germany\" for s in states])\n",
    "laender = gdf[[\"name\",\"geometry\"]]\n"
   ]
  },
  {
   "cell_type": "code",
   "execution_count": 64,
   "id": "e77d469c",
   "metadata": {},
   "outputs": [
    {
     "data": {
      "text/plain": [
       "<Geographic 2D CRS: EPSG:4326>\n",
       "Name: WGS 84\n",
       "Axis Info [ellipsoidal]:\n",
       "- Lat[north]: Geodetic latitude (degree)\n",
       "- Lon[east]: Geodetic longitude (degree)\n",
       "Area of Use:\n",
       "- name: World.\n",
       "- bounds: (-180.0, -90.0, 180.0, 90.0)\n",
       "Datum: World Geodetic System 1984 ensemble\n",
       "- Ellipsoid: WGS 84\n",
       "- Prime Meridian: Greenwich"
      ]
     },
     "execution_count": 64,
     "metadata": {},
     "output_type": "execute_result"
    },
    {
     "data": {
      "image/png": "[encoded data removed]",
      "text/plain": [
       "<Figure size 640x480 with 1 Axes>"
      ]
     },
     "metadata": {},
     "output_type": "display_data"
    }
   ],
   "source": [
    "# quick check of länder geometries\n",
    "laender.boundary.plot()\n",
    "laender.crs"
   ]
  },
  {
   "cell_type": "code",
   "execution_count": null,
   "id": "aaa68264",
   "metadata": {},
   "outputs": [
    {
     "name": "stdout",
     "output_type": "stream",
     "text": [
      "<class 'geopandas.geodataframe.GeoDataFrame'>\n",
      "Index: 651 entries, 1318 to 8360\n",
      "Data columns (total 4 columns):\n",
      " #   Column     Non-Null Count  Dtype   \n",
      "---  ------     --------------  -----   \n",
      " 0   geometry   651 non-null    geometry\n",
      " 1   voltage    651 non-null    object  \n",
      " 2   frequency  422 non-null    object  \n",
      " 3   name       651 non-null    object  \n",
      "dtypes: geometry(1), object(3)\n",
      "memory usage: 25.4+ KB\n"
     ]
    }
   ],
   "source": [
    "# make a 'within' spatial join to get Bundesland for each substation\n",
    "substations_transmission = gpd.sjoin(substations_transmission, laender, how=\"left\", predicate='within')\n",
    "substations_transmission.drop(columns=['index_right'], inplace=True)"
   ]
  },
  {
   "cell_type": "code",
   "execution_count": 66,
   "id": "4ddbab3c",
   "metadata": {},
   "outputs": [
    {
     "data": {
      "text/html": [
       "<div>\n",
       "<style scoped>\n",
       "    .dataframe tbody tr th:only-of-type {\n",
       "        vertical-align: middle;\n",
       "    }\n",
       "\n",
       "    .dataframe tbody tr th {\n",
       "        vertical-align: top;\n",
       "    }\n",
       "\n",
       "    .dataframe thead th {\n",
       "        text-align: right;\n",
       "    }\n",
       "</style>\n",
       "<table border=\"1\" class=\"dataframe\">\n",
       "  <thead>\n",
       "    <tr style=\"text-align: right;\">\n",
       "      <th></th>\n",
       "      <th>geometry</th>\n",
       "      <th>voltage</th>\n",
       "      <th>frequency</th>\n",
       "      <th>name</th>\n",
       "    </tr>\n",
       "  </thead>\n",
       "  <tbody>\n",
       "    <tr>\n",
       "      <th>1318</th>\n",
       "      <td>POLYGON ((12.36006 51.29549, 12.36041 51.2955,...</td>\n",
       "      <td>110000</td>\n",
       "      <td>NaN</td>\n",
       "      <td>Saxony</td>\n",
       "    </tr>\n",
       "    <tr>\n",
       "      <th>1322</th>\n",
       "      <td>POLYGON ((12.37123 51.17663, 12.37129 51.17663...</td>\n",
       "      <td>110000</td>\n",
       "      <td>NaN</td>\n",
       "      <td>Saxony</td>\n",
       "    </tr>\n",
       "    <tr>\n",
       "      <th>1323</th>\n",
       "      <td>POLYGON ((13.61047 51.09218, 13.60903 51.09184...</td>\n",
       "      <td>110000</td>\n",
       "      <td>50</td>\n",
       "      <td>Saxony</td>\n",
       "    </tr>\n",
       "    <tr>\n",
       "      <th>1324</th>\n",
       "      <td>POLYGON ((12.26329 51.24467, 12.26367 51.24455...</td>\n",
       "      <td>110000</td>\n",
       "      <td>50</td>\n",
       "      <td>Saxony</td>\n",
       "    </tr>\n",
       "    <tr>\n",
       "      <th>1325</th>\n",
       "      <td>POLYGON ((12.23262 51.29287, 12.23231 51.29284...</td>\n",
       "      <td>110000</td>\n",
       "      <td>50</td>\n",
       "      <td>Saxony</td>\n",
       "    </tr>\n",
       "  </tbody>\n",
       "</table>\n",
       "</div>"
      ],
      "text/plain": [
       "                                               geometry voltage frequency  \\\n",
       "1318  POLYGON ((12.36006 51.29549, 12.36041 51.2955,...  110000       NaN   \n",
       "1322  POLYGON ((12.37123 51.17663, 12.37129 51.17663...  110000       NaN   \n",
       "1323  POLYGON ((13.61047 51.09218, 13.60903 51.09184...  110000        50   \n",
       "1324  POLYGON ((12.26329 51.24467, 12.26367 51.24455...  110000        50   \n",
       "1325  POLYGON ((12.23262 51.29287, 12.23231 51.29284...  110000        50   \n",
       "\n",
       "        name  \n",
       "1318  Saxony  \n",
       "1322  Saxony  \n",
       "1323  Saxony  \n",
       "1324  Saxony  \n",
       "1325  Saxony  "
      ]
     },
     "execution_count": 66,
     "metadata": {},
     "output_type": "execute_result"
    }
   ],
   "source": [
    "substations_transmission.head()"
   ]
  },
  {
   "cell_type": "code",
   "execution_count": 50,
   "id": "bb7cf772",
   "metadata": {},
   "outputs": [
    {
     "name": "stdout",
     "output_type": "stream",
     "text": [
      "name\n",
      "Brandenburg    405\n",
      "Saxony         246\n",
      "Name: count, dtype: int64\n"
     ]
    },
    {
     "data": {
      "text/plain": [
       "<Axes: >"
      ]
     },
     "execution_count": 50,
     "metadata": {},
     "output_type": "execute_result"
    },
    {
     "data": {
      "image/png": "[encoded data removed]",
      "text/plain": [
       "<Figure size 640x480 with 1 Axes>"
      ]
     },
     "metadata": {},
     "output_type": "display_data"
    }
   ],
   "source": [
    "print(substations_transmission.value_counts('name'))\n",
    "substations_transmission.boundary.plot()"
   ]
  },
  {
   "cell_type": "markdown",
   "id": "1114a8c2",
   "metadata": {},
   "source": [
    "### 4. Associate Generators to Substations"
   ]
  },
  {
   "cell_type": "code",
   "execution_count": 69,
   "id": "ba094220",
   "metadata": {},
   "outputs": [],
   "source": [
    "# set substations and generators to same crs, fitting Germany EPSG:25833) \n",
    "substations_transmission = substations_transmission.to_crs(\"EPSG:25833\")\n",
    "power_stations = power_stations.to_crs(substations_transmission.crs)\n",
    "\n"
   ]
  },
  {
   "cell_type": "code",
   "execution_count": 70,
   "id": "6cfaf07f",
   "metadata": {},
   "outputs": [
    {
     "name": "stdout",
     "output_type": "stream",
     "text": [
      "<class 'geopandas.geodataframe.GeoDataFrame'>\n",
      "Index: 651 entries, 1318 to 8360\n",
      "Data columns (total 4 columns):\n",
      " #   Column     Non-Null Count  Dtype   \n",
      "---  ------     --------------  -----   \n",
      " 0   geometry   651 non-null    geometry\n",
      " 1   voltage    651 non-null    object  \n",
      " 2   frequency  422 non-null    object  \n",
      " 3   name       651 non-null    object  \n",
      "dtypes: geometry(1), object(3)\n",
      "memory usage: 25.4+ KB\n"
     ]
    }
   ],
   "source": [
    "substations_transmission.info()"
   ]
  },
  {
   "cell_type": "code",
   "execution_count": 71,
   "id": "eab5acf9",
   "metadata": {},
   "outputs": [
    {
     "data": {
      "text/plain": [
       "<Projected CRS: EPSG:25833>\n",
       "Name: ETRS89 / UTM zone 33N\n",
       "Axis Info [cartesian]:\n",
       "- E[east]: Easting (metre)\n",
       "- N[north]: Northing (metre)\n",
       "Area of Use:\n",
       "- name: Europe between 12°E and 18°E: Austria; Croatia; Denmark - offshore and offshore; Germany - onshore and offshore; Italy - onshore and offshore; Norway including Svalbard - onshore and offshore.\n",
       "- bounds: (12.0, 34.79, 18.01, 84.01)\n",
       "Coordinate Operation:\n",
       "- name: UTM zone 33N\n",
       "- method: Transverse Mercator\n",
       "Datum: European Terrestrial Reference System 1989 ensemble\n",
       "- Ellipsoid: GRS 1980\n",
       "- Prime Meridian: Greenwich"
      ]
     },
     "execution_count": 71,
     "metadata": {},
     "output_type": "execute_result"
    }
   ],
   "source": [
    "substations_transmission.crs"
   ]
  },
  {
   "cell_type": "code",
   "execution_count": 78,
   "id": "8c095dc8",
   "metadata": {},
   "outputs": [],
   "source": [
    "# get the nearest substation for each power station\n",
    "power_stations_with_substations = gpd.sjoin_nearest(power_stations, substations_transmission,\n",
    "                            how=\"left\", distance_col=\"dist\")\n",
    "\n"
   ]
  },
  {
   "cell_type": "code",
   "execution_count": 82,
   "id": "41b2fd02",
   "metadata": {},
   "outputs": [
    {
     "data": {
      "text/html": [
       "<div>\n",
       "<style scoped>\n",
       "    .dataframe tbody tr th:only-of-type {\n",
       "        vertical-align: middle;\n",
       "    }\n",
       "\n",
       "    .dataframe tbody tr th {\n",
       "        vertical-align: top;\n",
       "    }\n",
       "\n",
       "    .dataframe thead th {\n",
       "        text-align: right;\n",
       "    }\n",
       "</style>\n",
       "<table border=\"1\" class=\"dataframe\">\n",
       "  <thead>\n",
       "    <tr style=\"text-align: right;\">\n",
       "      <th></th>\n",
       "      <th>geometry</th>\n",
       "      <th>generator:source</th>\n",
       "      <th>generator:output:electricity</th>\n",
       "      <th>generator:method</th>\n",
       "      <th>generator:type</th>\n",
       "      <th>index_right</th>\n",
       "      <th>voltage</th>\n",
       "      <th>frequency</th>\n",
       "      <th>name</th>\n",
       "      <th>dist</th>\n",
       "    </tr>\n",
       "  </thead>\n",
       "  <tbody>\n",
       "    <tr>\n",
       "      <th>0</th>\n",
       "      <td>POINT (396443.993 5639269.346)</td>\n",
       "      <td>wind</td>\n",
       "      <td>1.8 MW</td>\n",
       "      <td>wind_turbine</td>\n",
       "      <td>horizontal_axis</td>\n",
       "      <td>1495</td>\n",
       "      <td>110000</td>\n",
       "      <td>NaN</td>\n",
       "      <td>Saxony</td>\n",
       "      <td>10459.341908</td>\n",
       "    </tr>\n",
       "    <tr>\n",
       "      <th>1</th>\n",
       "      <td>POINT (396010.786 5639776.856)</td>\n",
       "      <td>wind</td>\n",
       "      <td>600 kW</td>\n",
       "      <td>wind_turbine</td>\n",
       "      <td>horizontal_axis</td>\n",
       "      <td>1495</td>\n",
       "      <td>110000</td>\n",
       "      <td>NaN</td>\n",
       "      <td>Saxony</td>\n",
       "      <td>11023.764769</td>\n",
       "    </tr>\n",
       "    <tr>\n",
       "      <th>2</th>\n",
       "      <td>POINT (396066.235 5640136.06)</td>\n",
       "      <td>wind</td>\n",
       "      <td>600 kW</td>\n",
       "      <td>wind_turbine</td>\n",
       "      <td>horizontal_axis</td>\n",
       "      <td>1495</td>\n",
       "      <td>110000</td>\n",
       "      <td>NaN</td>\n",
       "      <td>Saxony</td>\n",
       "      <td>11088.844679</td>\n",
       "    </tr>\n",
       "    <tr>\n",
       "      <th>3</th>\n",
       "      <td>POINT (400094.281 5657513.302)</td>\n",
       "      <td>wind</td>\n",
       "      <td>1000 kW</td>\n",
       "      <td>wind_turbine</td>\n",
       "      <td>horizontal_axis</td>\n",
       "      <td>1323</td>\n",
       "      <td>110000</td>\n",
       "      <td>50</td>\n",
       "      <td>Saxony</td>\n",
       "      <td>4254.620483</td>\n",
       "    </tr>\n",
       "    <tr>\n",
       "      <th>4</th>\n",
       "      <td>POINT (361743.592 5661363.86)</td>\n",
       "      <td>hydro</td>\n",
       "      <td>yes</td>\n",
       "      <td>run-of-the-river</td>\n",
       "      <td>NaN</td>\n",
       "      <td>1866</td>\n",
       "      <td>110000</td>\n",
       "      <td>50</td>\n",
       "      <td>Saxony</td>\n",
       "      <td>3643.135617</td>\n",
       "    </tr>\n",
       "  </tbody>\n",
       "</table>\n",
       "</div>"
      ],
      "text/plain": [
       "                         geometry generator:source  \\\n",
       "0  POINT (396443.993 5639269.346)             wind   \n",
       "1  POINT (396010.786 5639776.856)             wind   \n",
       "2   POINT (396066.235 5640136.06)             wind   \n",
       "3  POINT (400094.281 5657513.302)             wind   \n",
       "4   POINT (361743.592 5661363.86)            hydro   \n",
       "\n",
       "  generator:output:electricity  generator:method   generator:type  \\\n",
       "0                       1.8 MW      wind_turbine  horizontal_axis   \n",
       "1                       600 kW      wind_turbine  horizontal_axis   \n",
       "2                       600 kW      wind_turbine  horizontal_axis   \n",
       "3                      1000 kW      wind_turbine  horizontal_axis   \n",
       "4                          yes  run-of-the-river              NaN   \n",
       "\n",
       "   index_right voltage frequency    name          dist  \n",
       "0         1495  110000       NaN  Saxony  10459.341908  \n",
       "1         1495  110000       NaN  Saxony  11023.764769  \n",
       "2         1495  110000       NaN  Saxony  11088.844679  \n",
       "3         1323  110000        50  Saxony   4254.620483  \n",
       "4         1866  110000        50  Saxony   3643.135617  "
      ]
     },
     "execution_count": 82,
     "metadata": {},
     "output_type": "execute_result"
    }
   ],
   "source": [
    "power_stations_with_substations.head()"
   ]
  },
  {
   "cell_type": "code",
   "execution_count": 73,
   "id": "7550aa15",
   "metadata": {},
   "outputs": [
    {
     "name": "stdout",
     "output_type": "stream",
     "text": [
      "Polygon         31033\n",
      "Point            9498\n",
      "MultiPolygon       58\n",
      "LineString         11\n",
      "Name: count, dtype: int64\n",
      "Polygon    1012\n",
      "Point        65\n",
      "Name: count, dtype: int64\n"
     ]
    }
   ],
   "source": [
    "# for power stations and substations, give the value count of geometry types\n",
    "print(power_stations['geometry'].geom_type.value_counts())\n",
    "print(substations['geometry'].geom_type.value_counts())"
   ]
  },
  {
   "cell_type": "code",
   "execution_count": 83,
   "id": "7027dac6",
   "metadata": {},
   "outputs": [],
   "source": [
    "# take every 100th element to have a shorter df for the map\n",
    "ps_plot = power_stations_with_substations[::100]"
   ]
  },
  {
   "cell_type": "code",
   "execution_count": null,
   "id": "3b5616d6",
   "metadata": {},
   "outputs": [],
   "source": [
    "\n",
    "if ps_plot.crs is None or ps_plot.crs.to_epsg() != 4326:\n",
    "    ps_plot = ps_plot.to_crs(epsg=4326)\n",
    "\n",
    "# representative point for all geometries\n",
    "rep_points = ps_plot.geometry.apply(lambda g: g if g.geom_type == 'Point' else g.centroid)\n",
    "\n",
    "# center map on data\n",
    "center_lat = rep_points.y.mean()\n",
    "center_lon = rep_points.x.mean()\n",
    "m = fl.Map(location=[center_lat, center_lon], zoom_start=7)\n",
    "\n",
    "for idx, row in ps_plot.iterrows():\n",
    "    geom = row.geometry\n",
    "    if geom.is_empty:\n",
    "        continue\n",
    "    if geom.geom_type == 'Point':\n",
    "        lat, lon = geom.y, geom.x\n",
    "    else:\n",
    "        c = geom.centroid\n",
    "        lat, lon = c.y, c.x\n",
    "    popup = (f\"Generator: {row.get('generator:method', 'n/a')}, \\n\"\n",
    "             f\"Source: {row.get('generator:source','n/a')}, \\n\"\n",
    "             f\"Output: {row.get('generator:output:electricity','n/a')}, \\n\"\n",
    "             f\"Nearest Substation: {row.get('index_right','n/a')}\")\n",
    "    fl.Marker(location=[lat, lon], popup=popup).add_to(m)\n",
    "\n",
    "m.save(\"output/power_stations_map.html\")\n"
   ]
  },
  {
   "cell_type": "code",
   "execution_count": 33,
   "id": "4f2f52d0",
   "metadata": {},
   "outputs": [
    {
     "name": "stdout",
     "output_type": "stream",
     "text": [
      "<class 'geopandas.geodataframe.GeoDataFrame'>\n",
      "RangeIndex: 406 entries, 0 to 40500\n",
      "Data columns (total 6 columns):\n",
      " #   Column                        Non-Null Count  Dtype   \n",
      "---  ------                        --------------  -----   \n",
      " 0   geometry                      406 non-null    geometry\n",
      " 1   generator:source              397 non-null    object  \n",
      " 2   generator:output:electricity  370 non-null    object  \n",
      " 3   generator:method              385 non-null    object  \n",
      " 4   generator:type                356 non-null    object  \n",
      " 5   nearest_substation_idx        406 non-null    int64   \n",
      "dtypes: geometry(1), int64(1), object(4)\n",
      "memory usage: 19.2+ KB\n"
     ]
    }
   ],
   "source": [
    "ps_plot.info()"
   ]
  },
  {
   "cell_type": "code",
   "execution_count": 34,
   "id": "7c434dbb",
   "metadata": {},
   "outputs": [
    {
     "data": {
      "text/plain": [
       "<Axes: >"
      ]
     },
     "execution_count": 34,
     "metadata": {},
     "output_type": "execute_result"
    },
    {
     "data": {
      "image/png": "[encoded data removed]",
      "text/plain": [
       "<Figure size 640x480 with 1 Axes>"
      ]
     },
     "metadata": {},
     "output_type": "display_data"
    }
   ],
   "source": [
    "power_stations[\"centroid\"] = power_stations.geometry.centroid\n",
    "power_stations.centroid.plot()"
   ]
  },
  {
   "cell_type": "markdown",
   "id": "aa72a66d",
   "metadata": {},
   "source": [
    "### 5. Aggregate and Summarize"
   ]
  },
  {
   "cell_type": "code",
   "execution_count": null,
   "id": "ee1cd186",
   "metadata": {},
   "outputs": [],
   "source": []
  },
  {
   "cell_type": "code",
   "execution_count": null,
   "id": "565a4aa8",
   "metadata": {},
   "outputs": [],
   "source": []
  },
  {
   "cell_type": "code",
   "execution_count": null,
   "id": "4039d71c",
   "metadata": {},
   "outputs": [],
   "source": []
  },
  {
   "cell_type": "markdown",
   "id": "c3c32b4f",
   "metadata": {},
   "source": []
  }
 ],
 "metadata": {
  "kernelspec": {
   "display_name": "casestudy",
   "language": "python",
   "name": "python3"
  },
  "language_info": {
   "codemirror_mode": {
    "name": "ipython",
    "version": 3
   },
   "file_extension": ".py",
   "mimetype": "text/x-python",
   "name": "python",
   "nbconvert_exporter": "python",
   "pygments_lexer": "ipython3",
   "version": "3.13.7"
  }
 },
 "nbformat": 4,
 "nbformat_minor": 5
}
