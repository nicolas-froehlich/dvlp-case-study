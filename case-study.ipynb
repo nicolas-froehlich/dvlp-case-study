{
 "cells": [
  {
   "cell_type": "code",
   "execution_count": null,
   "id": "23bb8643",
   "metadata": {},
   "outputs": [],
   "source": [
    "# import relevant libraries\n",
    "import osmnx as ox\n",
    "import folium as fl\n",
    "import geopandas as gpd\n",
    "import matplotlib.pyplot as plt"
   ]
  },
  {
   "cell_type": "markdown",
   "id": "03396396",
   "metadata": {},
   "source": [
    "### 1. Extract Generators"
   ]
  },
  {
   "cell_type": "code",
   "execution_count": null,
   "id": "369ffc18",
   "metadata": {},
   "outputs": [],
   "source": [
    "# load & combine power plant data from osmnx for SN & BB\n",
    "power_stations_sachsen = ox.features.features_from_place(\"Sachsen, Germany\", tags = {'power':['plant','generator']})\n",
    "# power_stations_brandenburg = ox.features.features_from_place(\"Brandenburg, Germany\", tags = {'power':['plant','generator']})"
   ]
  },
  {
   "cell_type": "code",
   "execution_count": 21,
   "id": "6c4360c9",
   "metadata": {},
   "outputs": [
    {
     "data": {
      "text/html": [
       "<div>\n",
       "<style scoped>\n",
       "    .dataframe tbody tr th:only-of-type {\n",
       "        vertical-align: middle;\n",
       "    }\n",
       "\n",
       "    .dataframe tbody tr th {\n",
       "        vertical-align: top;\n",
       "    }\n",
       "\n",
       "    .dataframe thead th {\n",
       "        text-align: right;\n",
       "    }\n",
       "</style>\n",
       "<table border=\"1\" class=\"dataframe\">\n",
       "  <thead>\n",
       "    <tr style=\"text-align: right;\">\n",
       "      <th></th>\n",
       "      <th></th>\n",
       "      <th>generator:source</th>\n",
       "      <th>operator</th>\n",
       "      <th>power</th>\n",
       "      <th>generator:output:electricity</th>\n",
       "      <th>source</th>\n",
       "      <th>generator:method</th>\n",
       "      <th>generator:type</th>\n",
       "      <th>manufacturer:type</th>\n",
       "      <th>power_rating</th>\n",
       "    </tr>\n",
       "    <tr>\n",
       "      <th>element</th>\n",
       "      <th>id</th>\n",
       "      <th></th>\n",
       "      <th></th>\n",
       "      <th></th>\n",
       "      <th></th>\n",
       "      <th></th>\n",
       "      <th></th>\n",
       "      <th></th>\n",
       "      <th></th>\n",
       "      <th></th>\n",
       "    </tr>\n",
       "  </thead>\n",
       "  <tbody>\n",
       "    <tr>\n",
       "      <th rowspan=\"5\" valign=\"top\">node</th>\n",
       "      <th>87853742</th>\n",
       "      <td>wind</td>\n",
       "      <td>NaN</td>\n",
       "      <td>generator</td>\n",
       "      <td>1.8 MW</td>\n",
       "      <td>NaN</td>\n",
       "      <td>wind_turbine</td>\n",
       "      <td>horizontal_axis</td>\n",
       "      <td>NaN</td>\n",
       "      <td>NaN</td>\n",
       "    </tr>\n",
       "    <tr>\n",
       "      <th>87855129</th>\n",
       "      <td>wind</td>\n",
       "      <td>NaN</td>\n",
       "      <td>generator</td>\n",
       "      <td>600 kW</td>\n",
       "      <td>NaN</td>\n",
       "      <td>wind_turbine</td>\n",
       "      <td>horizontal_axis</td>\n",
       "      <td>NaN</td>\n",
       "      <td>NaN</td>\n",
       "    </tr>\n",
       "    <tr>\n",
       "      <th>87855313</th>\n",
       "      <td>wind</td>\n",
       "      <td>NaN</td>\n",
       "      <td>generator</td>\n",
       "      <td>600 kW</td>\n",
       "      <td>NaN</td>\n",
       "      <td>wind_turbine</td>\n",
       "      <td>horizontal_axis</td>\n",
       "      <td>NaN</td>\n",
       "      <td>NaN</td>\n",
       "    </tr>\n",
       "    <tr>\n",
       "      <th>115278974</th>\n",
       "      <td>wind</td>\n",
       "      <td>NaN</td>\n",
       "      <td>generator</td>\n",
       "      <td>1000 kW</td>\n",
       "      <td>Yahoo</td>\n",
       "      <td>wind_turbine</td>\n",
       "      <td>horizontal_axis</td>\n",
       "      <td>NaN</td>\n",
       "      <td>NaN</td>\n",
       "    </tr>\n",
       "    <tr>\n",
       "      <th>173372773</th>\n",
       "      <td>hydro</td>\n",
       "      <td>NaN</td>\n",
       "      <td>generator</td>\n",
       "      <td>yes</td>\n",
       "      <td>NaN</td>\n",
       "      <td>run-of-the-river</td>\n",
       "      <td>NaN</td>\n",
       "      <td>NaN</td>\n",
       "      <td>NaN</td>\n",
       "    </tr>\n",
       "  </tbody>\n",
       "</table>\n",
       "</div>"
      ],
      "text/plain": [
       "                  generator:source operator      power  \\\n",
       "element id                                               \n",
       "node    87853742              wind      NaN  generator   \n",
       "        87855129              wind      NaN  generator   \n",
       "        87855313              wind      NaN  generator   \n",
       "        115278974             wind      NaN  generator   \n",
       "        173372773            hydro      NaN  generator   \n",
       "\n",
       "                  generator:output:electricity source  generator:method  \\\n",
       "element id                                                                \n",
       "node    87853742                        1.8 MW    NaN      wind_turbine   \n",
       "        87855129                        600 kW    NaN      wind_turbine   \n",
       "        87855313                        600 kW    NaN      wind_turbine   \n",
       "        115278974                      1000 kW  Yahoo      wind_turbine   \n",
       "        173372773                          yes    NaN  run-of-the-river   \n",
       "\n",
       "                    generator:type manufacturer:type power_rating  \n",
       "element id                                                         \n",
       "node    87853742   horizontal_axis               NaN          NaN  \n",
       "        87855129   horizontal_axis               NaN          NaN  \n",
       "        87855313   horizontal_axis               NaN          NaN  \n",
       "        115278974  horizontal_axis               NaN          NaN  \n",
       "        173372773              NaN               NaN          NaN  "
      ]
     },
     "execution_count": 21,
     "metadata": {},
     "output_type": "execute_result"
    }
   ],
   "source": [
    "# print all variable names in power_stations_sachsen as dataframe without truncation\n",
    "#pd.set_option('display.max_rows', None)\n",
    "#print(power_stations_sachsen.columns.to_frame())\n",
    "# keep only these columsn: generator:source, operator, power, generator:output:electricity, source,generator:method, generator:type, manufacturer:type, power_rating\n",
    "\n",
    "power_stations_sachsen = power_stations_sachsen[['generator:source', 'operator', 'power', 'generator:output:electricity', 'source','generator:method', 'generator:type', 'manufacturer:type', 'power_rating']]\n",
    "power_stations_sachsen.head()"
   ]
  },
  {
   "cell_type": "markdown",
   "id": "c249f300",
   "metadata": {},
   "source": [
    "### 2. Extract Substations"
   ]
  },
  {
   "cell_type": "code",
   "execution_count": null,
   "id": "6c06bd9d",
   "metadata": {},
   "outputs": [],
   "source": [
    "# load & combine power substation data from osmnx\n",
    "substations_sachsen = ox.features.features_from_place(\"Sachsen, Germany\", tags = {'power':'substation'})\n",
    "substations_brandenburg = ox.features.features_from_place(\"Brandenburg, Germany\", tags = {'power':'substation'})"
   ]
  },
  {
   "cell_type": "markdown",
   "id": "3c58f093",
   "metadata": {},
   "source": [
    "### 3. Assign Bundesland Information"
   ]
  },
  {
   "cell_type": "markdown",
   "id": "1114a8c2",
   "metadata": {},
   "source": [
    "### 4. Associate Generators to Substations"
   ]
  },
  {
   "cell_type": "markdown",
   "id": "aa72a66d",
   "metadata": {},
   "source": [
    "### 5. Aggregate and Summarize"
   ]
  },
  {
   "cell_type": "markdown",
   "id": "c3c32b4f",
   "metadata": {},
   "source": []
  }
 ],
 "metadata": {
  "kernelspec": {
   "display_name": "casestudy",
   "language": "python",
   "name": "python3"
  },
  "language_info": {
   "codemirror_mode": {
    "name": "ipython",
    "version": 3
   },
   "file_extension": ".py",
   "mimetype": "text/x-python",
   "name": "python",
   "nbconvert_exporter": "python",
   "pygments_lexer": "ipython3",
   "version": "3.13.7"
  }
 },
 "nbformat": 4,
 "nbformat_minor": 5
}
